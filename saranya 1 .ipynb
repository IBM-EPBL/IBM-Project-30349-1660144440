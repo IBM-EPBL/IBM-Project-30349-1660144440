{
  "nbformat": 4,
  "nbformat_minor": 0,
  "metadata": {
    "colab": {
      "provenance": [],
      "collapsed_sections": []
    },
    "kernelspec": {
      "name": "python3",
      "display_name": "Python 3"
    },
    "language_info": {
      "name": "python"
    }
  },
  "cells": [
    {
      "cell_type": "markdown",
      "source": [
        "# Basic Python"
      ],
      "metadata": {
        "id": "McSxJAwcOdZ1"
      }
    },
    {
      "cell_type": "markdown",
      "source": [
        "## 1. Split this string"
      ],
      "metadata": {
        "id": "CU48hgo4Owz5"
      }
    },
    {
      "cell_type": "code",
      "source": [
        "s = \"Hi there Sam!\"\n",
        "print (s.split())"
      ],
      "metadata": {
        "id": "s07c7JK7Oqt-",
        "outputId": "21c428ca-08b6-43fb-9496-f059fe8fd851",
        "colab": {
          "base_uri": "https://localhost:8080/"
        }
      },
      "execution_count": null,
      "outputs": [
        {
          "output_type": "stream",
          "name": "stdout",
          "text": [
            "['Hi', 'there', 'Sam!']\n"
          ]
        }
      ]
    },
    {
      "cell_type": "code",
      "source": [],
      "metadata": {
        "id": "6mGVa3SQYLkb"
      },
      "execution_count": null,
      "outputs": []
    },
    {
      "cell_type": "markdown",
      "source": [
        "## 2. Use .format() to print the following string. \n",
        "\n",
        "### Output should be: The diameter of Earth is 12742 kilometers."
      ],
      "metadata": {
        "id": "GH1QBn8HP375"
      }
    },
    {
      "cell_type": "code",
      "source": [
        "planet = \"Earth\"\n",
        "diameter = 12742\n",
        "print(\"The diameter of {} is {} kilometers.\".format(planet, diameter))\n",
        "\n"
      ],
      "metadata": {
        "id": "_ZHoml3kPqic",
        "outputId": "64f4c0a6-cfb1-4ef7-f9c6-877b9ac06a1c",
        "colab": {
          "base_uri": "https://localhost:8080/"
        }
      },
      "execution_count": null,
      "outputs": [
        {
          "output_type": "stream",
          "name": "stdout",
          "text": [
            "The diameter of Earth is 12742 kilometers.\n"
          ]
        }
      ]
    },
    {
      "cell_type": "code",
      "source": [],
      "metadata": {
        "id": "HyRyJv6CYPb4"
      },
      "execution_count": null,
      "outputs": []
    },
    {
      "cell_type": "markdown",
      "source": [
        "## 3. In this nest dictionary grab the word \"hello\""
      ],
      "metadata": {
        "id": "KE74ZEwkRExZ"
      }
    },
    {
      "cell_type": "code",
      "source": [
        "\n",
        "d = {'k1':[1,2,3,{'tricky':['oh','man','inception',{'target':[1,2,3,'hello']}]}]}\n",
        "d['k1'][3]['tricky'][3]['target'][3]"
      ],
      "metadata": {
        "id": "fcVwbCc1QrQI",
        "outputId": "2405db66-6d87-4c4b-b606-96a9f30bf3e6",
        "colab": {
          "base_uri": "https://localhost:8080/",
          "height": 35
        }
      },
      "execution_count": null,
      "outputs": [
        {
          "output_type": "execute_result",
          "data": {
            "text/plain": [
              "'hello'"
            ],
            "application/vnd.google.colaboratory.intrinsic+json": {
              "type": "string"
            }
          },
          "metadata": {},
          "execution_count": 23
        }
      ]
    },
    {
      "cell_type": "code",
      "source": [],
      "metadata": {
        "id": "MvbkMZpXYRaw"
      },
      "execution_count": null,
      "outputs": []
    },
    {
      "cell_type": "markdown",
      "source": [
        "# Numpy"
      ],
      "metadata": {
        "id": "bw0vVp-9ddjv"
      }
    },
    {
      "cell_type": "code",
      "source": [],
      "metadata": {
        "id": "LLiE_TYrhA1O"
      },
      "execution_count": null,
      "outputs": []
    },
    {
      "cell_type": "markdown",
      "source": [
        "## 4.1 Create an array of 10 zeros? \n",
        "\n",
        "1.   List item\n",
        "2.   List item\n",
        "\n",
        "\n",
        "## 4.2 Create an array of 10 fives?"
      ],
      "metadata": {
        "id": "wOg8hinbgx30"
      }
    },
    {
      "cell_type": "code",
      "source": [
        "array=np.ones(10)*5\n",
        "print(\"An array of 10 fives:\")\n",
        "print(array)"
      ],
      "metadata": {
        "id": "NHrirmgCYXvU",
        "outputId": "c740f258-08db-4933-cae4-694142c1d3be",
        "colab": {
          "base_uri": "https://localhost:8080/"
        }
      },
      "execution_count": null,
      "outputs": [
        {
          "output_type": "stream",
          "name": "stdout",
          "text": [
            "An array of 10 fives:\n",
            "[5. 5. 5. 5. 5. 5. 5. 5. 5. 5.]\n"
          ]
        }
      ]
    },
    {
      "cell_type": "code",
      "source": [
        "import numpy as np\n",
        "array=np.zeros(10)\n",
        "print(\"An array of 10 zeros:\")\n",
        "print(array)"
      ],
      "metadata": {
        "id": "e4005lsTYXxx",
        "outputId": "6fd2939b-8305-4d9d-ec88-3be4ff72e264",
        "colab": {
          "base_uri": "https://localhost:8080/"
        }
      },
      "execution_count": null,
      "outputs": [
        {
          "output_type": "stream",
          "name": "stdout",
          "text": [
            "An array of 10 zeros:\n",
            "[0. 0. 0. 0. 0. 0. 0. 0. 0. 0.]\n"
          ]
        }
      ]
    },
    {
      "cell_type": "markdown",
      "source": [
        "## 5. Create an array of all the even integers from 20 to 35"
      ],
      "metadata": {
        "id": "gZHHDUBvrMX4"
      }
    },
    {
      "cell_type": "code",
      "source": [
        "import numpy as np\n",
        "x =  np.arange(0, 9).reshape(3,3)\n",
        "print(x)"
      ],
      "metadata": {
        "id": "oAI2tbU2Yag-"
      },
      "execution_count": null,
      "outputs": []
    },
    {
      "cell_type": "markdown",
      "source": [
        "## 6. Create a 3x3 matrix with values ranging from 0 to 8"
      ],
      "metadata": {
        "id": "NaOM308NsRpZ"
      }
    },
    {
      "cell_type": "code",
      "source": [
        "import numpy as np\n",
        "x =  np.arange(0, 9).reshape(3,3)\n",
        "print(x)"
      ],
      "metadata": {
        "id": "tOlEVH7BYceE",
        "outputId": "44e12ac4-ef64-4a94-d351-a7a6d6ff60d3",
        "colab": {
          "base_uri": "https://localhost:8080/"
        }
      },
      "execution_count": null,
      "outputs": [
        {
          "output_type": "stream",
          "name": "stdout",
          "text": [
            "[[0 1 2]\n",
            " [3 4 5]\n",
            " [6 7 8]]\n"
          ]
        }
      ]
    },
    {
      "cell_type": "markdown",
      "source": [
        "## 7. Concatenate a and b \n",
        "## a = np.array([1, 2, 3]), b = np.array([4, 5, 6])"
      ],
      "metadata": {
        "id": "hQ0dnhAQuU_p"
      }
    },
    {
      "cell_type": "code",
      "source": [
        "import numpy as np\n",
        "a = np.array([1, 2, 3])\n",
        "b = np.array([4, 5, 6])\n",
        "c=np.concatenate((a, b))\n",
        "print (c)"
      ],
      "metadata": {
        "id": "rAPSw97aYfE0",
        "outputId": "cd6abdd2-9c7e-4dbd-fc47-467631f3ecae",
        "colab": {
          "base_uri": "https://localhost:8080/"
        }
      },
      "execution_count": null,
      "outputs": [
        {
          "output_type": "stream",
          "name": "stdout",
          "text": [
            "[1 2 3 4 5 6]\n"
          ]
        }
      ]
    },
    {
      "cell_type": "markdown",
      "source": [
        "# Pandas"
      ],
      "metadata": {
        "id": "dlPEY9DRwZga"
      }
    },
    {
      "cell_type": "markdown",
      "source": [
        "## 8. Create a dataframe with 3 rows and 2 columns"
      ],
      "metadata": {
        "id": "ijoYW51zwr87"
      }
    },
    {
      "cell_type": "code",
      "source": [
        "import pandas as pd\n",
        "import pandas as pd\n",
        "data = {\"Name\": ['Tom','Joseph','John'],'Age': [20, 21,25]}  \n",
        "df = pd.DataFrame(data) \n",
        "print(df)\n"
      ],
      "metadata": {
        "id": "T5OxJRZ8uvR7",
        "outputId": "7c7c3d6f-a627-4717-bd50-78c4d12591ff",
        "colab": {
          "base_uri": "https://localhost:8080/"
        }
      },
      "execution_count": null,
      "outputs": [
        {
          "output_type": "stream",
          "name": "stdout",
          "text": [
            "     Name  Age\n",
            "0     Tom   20\n",
            "1  Joseph   21\n",
            "2    John   25\n"
          ]
        }
      ]
    },
    {
      "cell_type": "code",
      "source": [],
      "metadata": {
        "id": "xNpI_XXoYhs0"
      },
      "execution_count": null,
      "outputs": []
    },
    {
      "cell_type": "markdown",
      "source": [
        "## 9. Generate the series of dates from 1st Jan, 2023 to 10th Feb, 2023"
      ],
      "metadata": {
        "id": "UXSmdNclyJQD"
      }
    },
    {
      "cell_type": "code",
      "source": [
        "import pandas as pd\n",
        "from datetime import datetime\n",
        "pd.date_range(end = datetime.today(), periods = 100).to_pydatetime().tolist()\n",
        "pd.date_range(start=\"2023-01-01\",end=\"2023-02-10\").to_pydatetime()"
      ],
      "metadata": {
        "id": "dgyC0JhVYl4F",
        "outputId": "837bc1c7-ce44-4e40-924b-3adb00fab42e",
        "colab": {
          "base_uri": "https://localhost:8080/"
        }
      },
      "execution_count": null,
      "outputs": [
        {
          "output_type": "execute_result",
          "data": {
            "text/plain": [
              "array([datetime.datetime(2023, 1, 1, 0, 0),\n",
              "       datetime.datetime(2023, 1, 2, 0, 0),\n",
              "       datetime.datetime(2023, 1, 3, 0, 0),\n",
              "       datetime.datetime(2023, 1, 4, 0, 0),\n",
              "       datetime.datetime(2023, 1, 5, 0, 0),\n",
              "       datetime.datetime(2023, 1, 6, 0, 0),\n",
              "       datetime.datetime(2023, 1, 7, 0, 0),\n",
              "       datetime.datetime(2023, 1, 8, 0, 0),\n",
              "       datetime.datetime(2023, 1, 9, 0, 0),\n",
              "       datetime.datetime(2023, 1, 10, 0, 0),\n",
              "       datetime.datetime(2023, 1, 11, 0, 0),\n",
              "       datetime.datetime(2023, 1, 12, 0, 0),\n",
              "       datetime.datetime(2023, 1, 13, 0, 0),\n",
              "       datetime.datetime(2023, 1, 14, 0, 0),\n",
              "       datetime.datetime(2023, 1, 15, 0, 0),\n",
              "       datetime.datetime(2023, 1, 16, 0, 0),\n",
              "       datetime.datetime(2023, 1, 17, 0, 0),\n",
              "       datetime.datetime(2023, 1, 18, 0, 0),\n",
              "       datetime.datetime(2023, 1, 19, 0, 0),\n",
              "       datetime.datetime(2023, 1, 20, 0, 0),\n",
              "       datetime.datetime(2023, 1, 21, 0, 0),\n",
              "       datetime.datetime(2023, 1, 22, 0, 0),\n",
              "       datetime.datetime(2023, 1, 23, 0, 0),\n",
              "       datetime.datetime(2023, 1, 24, 0, 0),\n",
              "       datetime.datetime(2023, 1, 25, 0, 0),\n",
              "       datetime.datetime(2023, 1, 26, 0, 0),\n",
              "       datetime.datetime(2023, 1, 27, 0, 0),\n",
              "       datetime.datetime(2023, 1, 28, 0, 0),\n",
              "       datetime.datetime(2023, 1, 29, 0, 0),\n",
              "       datetime.datetime(2023, 1, 30, 0, 0),\n",
              "       datetime.datetime(2023, 1, 31, 0, 0),\n",
              "       datetime.datetime(2023, 2, 1, 0, 0),\n",
              "       datetime.datetime(2023, 2, 2, 0, 0),\n",
              "       datetime.datetime(2023, 2, 3, 0, 0),\n",
              "       datetime.datetime(2023, 2, 4, 0, 0),\n",
              "       datetime.datetime(2023, 2, 5, 0, 0),\n",
              "       datetime.datetime(2023, 2, 6, 0, 0),\n",
              "       datetime.datetime(2023, 2, 7, 0, 0),\n",
              "       datetime.datetime(2023, 2, 8, 0, 0),\n",
              "       datetime.datetime(2023, 2, 9, 0, 0),\n",
              "       datetime.datetime(2023, 2, 10, 0, 0)], dtype=object)"
            ]
          },
          "metadata": {},
          "execution_count": 30
        }
      ]
    },
    {
      "cell_type": "markdown",
      "source": [
        "## 10. Create 2D list to DataFrame\n",
        "\n",
        "lists = [[1, 'aaa', 22],\n",
        "         [2, 'bbb', 25],\n",
        "         [3, 'ccc', 24]]"
      ],
      "metadata": {
        "id": "ZizSetD-y5az"
      }
    },
    {
      "cell_type": "code",
      "source": [
        "lists = [[1, 'aaa', 22], [2, 'bbb', 25], [3, 'ccc', 24]]\n",
        "import pandas as pd\n",
        "\n",
        "data = [[1, 'aaa',22], \n",
        "        [2, 'bbb',25], \n",
        "        [3, 'ccc', 24]]\n",
        "\n",
        "df = pd.DataFrame.from_records(data)\n",
        "print (df)"
      ],
      "metadata": {
        "id": "_XMC8aEt0llB",
        "outputId": "02bcac52-f870-4af6-d47c-6588f44f2de8",
        "colab": {
          "base_uri": "https://localhost:8080/"
        }
      },
      "execution_count": null,
      "outputs": [
        {
          "output_type": "stream",
          "name": "stdout",
          "text": [
            "   0    1   2\n",
            "0  1  aaa  22\n",
            "1  2  bbb  25\n",
            "2  3  ccc  24\n"
          ]
        }
      ]
    },
    {
      "cell_type": "code",
      "source": [],
      "metadata": {
        "id": "knH76sDKYsVX"
      },
      "execution_count": null,
      "outputs": []
    }
  ]
}